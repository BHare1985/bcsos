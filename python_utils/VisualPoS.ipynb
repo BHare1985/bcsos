{
 "cells": [
  {
   "cell_type": "code",
   "execution_count": 1,
   "id": "98e9f6bd",
   "metadata": {},
   "outputs": [],
   "source": [
    "import pandas as pd\n",
    "import sqlite3\n",
    "import numpy as np\n",
    "import json\n",
    "\n",
    "def load_data_from_db(dbs, tbl):\n",
    "    sc = list()\n",
    "    for i, node in enumerate(dbs):\n",
    "        conn = sqlite3.connect(node)\n",
    "        \n",
    "        query_cmd = f'SELECT *, strftime(\"%Y-%m-%d %H:%M:%S\",timestamp) FROM {tbl} WHERE id IN ( SELECT MAX(id) FROM dbstatus GROUP BY timestamp);'\n",
    "\n",
    "        df = pd.read_sql_query(query_cmd, conn)\n",
    "        # df.drop('id', axis=1, inplace=True)\n",
    "        # df.drop('totalblocks', axis=1, inplace=True)\n",
    "        # df.drop('totaltransactions', axis=1, inplace=True)\n",
    "        # df.drop('blocks', axis=1, inplace=True)\n",
    "        # df = df.rename(columns={'ts': 'timestamp'})\n",
    "        \n",
    "        # df.astype({'headers': 'int', 'transactions': 'int', 'size': 'int', 'totalquery': 'int', \n",
    "        #           'queryfrom': 'int', 'queryto': 'int', 'totaldelay': 'int'}).dtypes\n",
    "\n",
    "        # #df['totalhop'] = df['totalhop'].apply(json.loads)\n",
    "        sc.append(df)        \n",
    "        conn.close()\n",
    "    return sc"
   ]
  },
  {
   "cell_type": "code",
   "execution_count": 2,
   "id": "f7155c1e",
   "metadata": {},
   "outputs": [
    {
     "name": "stdout",
     "output_type": "stream",
     "text": [
      "0.7556018366014379\n",
      "0.8056472313898059\n"
     ]
    }
   ],
   "source": [
    "#calculate centrality\n",
    "import math\n",
    "import numpy as np\n",
    "\n",
    "def entropynorm(values):\n",
    "    vs = np.array(values)\n",
    "    num = vs.size\n",
    "    tt = np.sum(vs)\n",
    "    vs = vs/tt\n",
    "\n",
    "    npi = np.sum(vs*np.log2(vs))\n",
    "    dpi = math.log2(num)\n",
    "    return - npi/dpi\n",
    "\n",
    "def fairnessnorm(values):\n",
    "    vs = np.array(values)\n",
    "    num = vs.size\n",
    "\n",
    "    npi = np.sum(vs)\n",
    "    npi = npi**2\n",
    "    dpi = np.square(vs).sum()\n",
    "    dpi = dpi*num\n",
    "    \n",
    "    fn = (npi/dpi - 1/num) / (1 - 1/num)\n",
    "    \n",
    "    return fn\n",
    "\n",
    "values_list = [\n",
    "                [0.1, 0.1, 0.1, 0.1, 0.1, 0.1, 0.1, 0.1, 0.1, 0.1],\n",
    "                [0.17, 0.17, 0.13, 0.12, 0.11, 0.09, 0.07, 0.06, 0.05, 0.03],\n",
    "                [0.42, 0.2, 0.14, 0.07, 0.04, 0.04, 0.03, 0.03, 0.02, 0.01]\n",
    "                ]\n",
    "\n",
    "print(entropynorm(values_list[2]))\n",
    "print(fairnessnorm(values_list[1]))"
   ]
  },
  {
   "cell_type": "code",
   "execution_count": 3,
   "id": "77f99389",
   "metadata": {},
   "outputs": [
    {
     "name": "stdout",
     "output_type": "stream",
     "text": [
      "['/mnt/c/Temp/PoS_20221125_152153/7031.db', '/mnt/c/Temp/PoS_20221125_152153/7032.db', '/mnt/c/Temp/PoS_20221125_152153/7033.db', '/mnt/c/Temp/PoS_20221125_152153/7034.db', '/mnt/c/Temp/PoS_20221125_152153/7035.db', '/mnt/c/Temp/PoS_20221125_152153/7036.db', '/mnt/c/Temp/PoS_20221125_152153/7037.db', '/mnt/c/Temp/PoS_20221125_152153/7038.db']\n"
     ]
    }
   ],
   "source": [
    "import os\n",
    "\n",
    "#PATH = \"../blockchainnode/db_nodes\"\n",
    "PATH = \"/mnt/c/Temp/PoS_20221125_152153\"\n",
    "fdbs = [os.path.join(PATH, f) for f in os.listdir(PATH) if f.split(\".\")[-1] == 'db']\n",
    "fdbs.sort()\n",
    "print(fdbs)"
   ]
  },
  {
   "cell_type": "code",
   "execution_count": 12,
   "id": "ed2ff4f7",
   "metadata": {},
   "outputs": [
    {
     "name": "stdout",
     "output_type": "stream",
     "text": [
      "[28, 24, 20, 19, 23, 18, 15, 37] 184\n",
      "[16, 29, 29, 18, 30, 18, 27, 16] 183\n",
      "Fairness Proof 0.9159369527145359\n",
      "Fairness Verification 0.9271815189954309\n",
      "Entropy Proof 0.9820425162114539\n",
      "Entropy Verification 0.9834320440983392\n"
     ]
    },
    {
     "data": {
      "image/png": "[encoded data removed]",
      "text/plain": [
       "<Figure size 432x288 with 1 Axes>"
      ]
     },
     "metadata": {
      "needs_background": "light"
     },
     "output_type": "display_data"
    }
   ],
   "source": [
    "# Count chart for proof and verify\n",
    "from matplotlib import pyplot as plt\n",
    "    \n",
    "dfs = load_data_from_db(fdbs, 'prooftbl')\n",
    "proof = []\n",
    "for i, df in enumerate(dfs):\n",
    "    proof.append(df.shape[0])\n",
    "print(proof, sum(proof))\n",
    "\n",
    "dfs = load_data_from_db(fdbs, 'veriftbl')\n",
    "verif = []\n",
    "for i, df in enumerate(dfs):\n",
    "    verif.append(df.shape[0])\n",
    "print(verif, sum(verif))\n",
    "\n",
    "ch_list = [proof, verif]\n",
    "bdf = pd.DataFrame(ch_list).transpose()\n",
    "bdf.columns = ['Proof', 'Verify']\n",
    "ax = bdf.plot.bar(rot=0)\n",
    "plt.xlabel(\"Node\")\n",
    "plt.ylabel(\"# of executions\")\n",
    "plt.savefig('Num_Prover_Verifier.png', dpi=300, bbox_inches='tight')\n",
    "\n",
    "print('Fairness Proof', fairnessnorm(proof))\n",
    "print('Fairness Verification', fairnessnorm(verif))\n",
    "\n",
    "print('Entropy Proof', entropynorm(proof))\n",
    "print('Entropy Verification', entropynorm(verif))\n",
    "\n",
    "\n"
   ]
  },
  {
   "cell_type": "code",
   "execution_count": 5,
   "id": "3b510d0d",
   "metadata": {},
   "outputs": [
    {
     "name": "stdout",
     "output_type": "stream",
     "text": [
      "[16.404361, 5.623605958333333, 4.035757, 5.100337, 3.7959746521739133, 5.881059333333333, 13.686673599999999, 6.853412648648648]\n",
      "[7160.477591625, 6944.836372586206, 6480.079092103448, 7389.829765111111, 6343.100727766667, 6948.459725277778, 6966.981564592592, 6975.0144684375]\n",
      "[567.620390125, 532.8881066206897, 618.9745032068965, 682.3559763888888, 696.9667195666667, 704.5029718333334, 651.4574326666666, 604.465607375]\n",
      "Avg Proof[msec] 7.672647649061154\n",
      "Avg Verif Fwd[msec] 6901.097413437537\n",
      "Avg Verif Back[msec] 632.4039634728928\n"
     ]
    },
    {
     "data": {
      "image/png": "[encoded data removed]",
      "text/plain": [
       "<Figure size 432x288 with 1 Axes>"
      ]
     },
     "metadata": {
      "needs_background": "light"
     },
     "output_type": "display_data"
    }
   ],
   "source": [
    "# Avg. Time chart for proof and verify\n",
    "from matplotlib import pyplot as plt\n",
    "\n",
    "unit = 1000000 #msec\n",
    "dfs = load_data_from_db(fdbs, 'prooftbl')\n",
    "proof = []\n",
    "for i, df in enumerate(dfs):\n",
    "    proof.append(df['timegenproof'].mean()/unit)\n",
    "print(proof)\n",
    "\n",
    "dfs = load_data_from_db(fdbs, 'veriftbl')\n",
    "veriffwd = []\n",
    "verifrev = []\n",
    "for i, df in enumerate(dfs):\n",
    "    veriffwd.append(df['timeveriffwd'].mean()/unit)\n",
    "    verifrev.append(df['timeverifrev'].mean()/unit)\n",
    "print(veriffwd)\n",
    "print(verifrev)\n",
    "\n",
    "ch_list = [proof, veriffwd, verifrev]\n",
    "bdf = pd.DataFrame(ch_list).transpose()\n",
    "bdf.columns = ['Proof', 'Verify(FWD)', 'Verify(BACK)']\n",
    "ax = bdf.plot.bar(rot=0)\n",
    "plt.xlabel(\"Node\")\n",
    "plt.ylabel(\"Time[msec]\")\n",
    "\n",
    "plt.savefig('Avg_Time_Proof_Verify.png', dpi=300, bbox_inches='tight')\n",
    "\n",
    "print('Avg Proof[msec]', sum(proof)/len(proof))\n",
    "print('Avg Verif Fwd[msec]', sum(veriffwd)/len(veriffwd))\n",
    "print('Avg Verif Back[msec]', sum(verifrev)/len(verifrev))\n"
   ]
  },
  {
   "cell_type": "code",
   "execution_count": 6,
   "id": "912b12a7",
   "metadata": {},
   "outputs": [
    {
     "name": "stdout",
     "output_type": "stream",
     "text": [
      "[904.8362857142857, 900.9995, 677.0912, 979.4023157894737, 781.3537391304349, 985.2946666666667, 1196.3682666666666, 974.2361081081082]\n",
      "Avg size of proof 924.9477602594544\n"
     ]
    },
    {
     "data": {
      "image/png": "[encoded data removed]",
      "text/plain": [
       "<Figure size 432x288 with 1 Axes>"
      ]
     },
     "metadata": {
      "needs_background": "light"
     },
     "output_type": "display_data"
    }
   ],
   "source": [
    "# Avg. Size chart for proof \n",
    "from matplotlib import pyplot as plt\n",
    "\n",
    "unit = 1000 #kbyte\n",
    "dfs = load_data_from_db(fdbs, 'prooftbl')\n",
    "proof = []\n",
    "for i, df in enumerate(dfs):\n",
    "    proof.append(df['sizegenproof'].mean()/unit)\n",
    "print(proof)\n",
    "\n",
    "ch_list = [proof]\n",
    "bdf = pd.DataFrame(ch_list).transpose()\n",
    "bdf.columns = ['Proof Size']\n",
    "ax = bdf.plot.bar(rot=0)\n",
    "plt.xlabel(\"Node\")\n",
    "plt.ylabel(\"Size[MByte]\")\n",
    "plt.savefig('Avg_Size_Proof.png', dpi=300, bbox_inches='tight')\n",
    "\n",
    "print('Avg size of proof', sum(proof)/len(proof))\n"
   ]
  },
  {
   "cell_type": "code",
   "execution_count": 18,
   "id": "304072c6",
   "metadata": {},
   "outputs": [
    {
     "name": "stdout",
     "output_type": "stream",
     "text": [
      "                                                     0    1\n",
      "0    00000000000000000006d8469efdd8b316d0a52c6bc7c2...    2\n",
      "1    000000000000000000030b1003247f1f2b061c77d38ce5...   13\n",
      "2    00000000000000000006d8469efdd8b316d0a52c6bc7c2...    2\n",
      "3    00000000000000000006e12037e999d2a1abf3353ca95e...   17\n",
      "4    000000000000000000086b49b8ef039c23d0d63fe9750d...   37\n",
      "..                                                 ...  ...\n",
      "179  00000000000000000006d2b5ededa6a331f53745a393bd...   53\n",
      "180  00000000000000000005af0e81cf01e121086d77bea4c4...  194\n",
      "181  000000000000000000036aa2a513e139ccde4eee105887...  272\n",
      "182  00000000000000000003a5fd06669daca29617f1e8969e...  253\n",
      "183  000000000000000000040a6b1068557a76781b829a8da3...   69\n",
      "\n",
      "[184 rows x 2 columns]\n"
     ]
    },
    {
     "data": {
      "image/png": "[encoded data removed]",
      "text/plain": [
       "<Figure size 432x288 with 1 Axes>"
      ]
     },
     "metadata": {
      "needs_background": "light"
     },
     "output_type": "display_data"
    }
   ],
   "source": [
    "# List up proof block and show it in the time order \n",
    "from matplotlib import pyplot as plt\n",
    "\n",
    "dfs = load_data_from_db(fdbs, 'prooftbl')\n",
    "hash = []\n",
    "for i, df in enumerate(dfs):\n",
    "    for s in df['proofblock']:        \n",
    "        hash.append(s)\n",
    "# print(hash)\n",
    "\n",
    "height = []\n",
    "for i, df in enumerate(dfs):\n",
    "    for h in df['proofheight']:        \n",
    "        height.append(h)\n",
    "# print(height)\n",
    "\n",
    "ch_list = [hash, height]\n",
    "bdf = pd.DataFrame(ch_list).transpose()\n",
    "print(bdf)\n",
    "\n",
    "bdf.columns = ['Hash', 'Height']\n",
    "bdf = bdf.sort_values(by=['Height'])\n",
    "bdf2 = bdf.groupby(['Height'])['Height'].count().reset_index(name=\"Count\")\n",
    "\n",
    "# pd.set_option('display.max_rows', None)\n",
    "# bdf2 = bdf2.set_index('Height')\n",
    "# bdf2 = bdf2.reindex(list(range(bdf2.index.min(),bdf2.index.max()+1)),fill_value=0)\n",
    "# print(bdf2)\n",
    "# ax = bdf2.plot.line(rot=0)\n",
    "\n",
    "bdf = pd.DataFrame([height]).transpose()\n",
    "ax = bdf.plot.hist(bins=12, label='Count')\n",
    "ax.get_legend().remove()\n",
    "# df.plot(legend=False)\n",
    "\n",
    "plt.xlabel(\"Height\")\n",
    "plt.ylabel(\"# of of blocks selected\")\n",
    "\n",
    "plt.savefig('Proof_Blocks.png', dpi=300, bbox_inches='tight')\n",
    "\n"
   ]
  },
  {
   "cell_type": "code",
   "execution_count": 47,
   "id": "727362bd",
   "metadata": {},
   "outputs": [
    {
     "name": "stdout",
     "output_type": "stream",
     "text": [
      "0.718461218061553 0.9587007769730387\n",
      "0.6904139641425647 0.9611661528970377\n",
      "0.5925114625550457 0.9350450971508641\n",
      "0.6678854675085133 0.9583103824549016\n",
      "     Height  Count  norm_cnt    weight\n",
      "0         2      4  0.156842  0.039211\n",
      "1         3      1  0.058235  0.058235\n",
      "2         4      3  0.230651  0.076884\n",
      "3         5      3  0.285488  0.095163\n",
      "4         6      2  0.226159  0.113080\n",
      "..      ...    ...       ...       ...\n",
      "98      278      1  0.996151  0.996151\n",
      "99      279      1  0.996227  0.996227\n",
      "100     282      2  1.992894  0.996447\n",
      "101     283      1  0.996517  0.996517\n",
      "102     326      1  0.998526  0.998526\n",
      "\n",
      "[103 rows x 4 columns]\n"
     ]
    }
   ],
   "source": [
    "import numpy as np\n",
    " \n",
    "def cal_evenness1(vdf, vmax):\n",
    "    vdf['weight'] = (vmax - vdf['Height'])\n",
    "    vdf['norm_cnt'] = vdf['Count']/vdf['weight']\n",
    "    values = vdf['norm_cnt'].to_list()\n",
    "    nf = fairnessnorm(values[:int(len(values)/2)])\n",
    "    ne = entropynorm(values[:int(len(values)/2)])\n",
    "    print(nf, ne)\n",
    "    nf = fairnessnorm(values)\n",
    "    ne = entropynorm(values)\n",
    "    print(nf, ne)\n",
    "    \n",
    "def cal_evenness2(vdf, vmax):\n",
    "    vdf['norm_cnt'] = vdf['Count']*vdf['Height']\n",
    "    values = vdf['norm_cnt'].to_list()\n",
    "    nf = fairnessnorm(values[:int(vmax/2)])\n",
    "    ne = entropynorm(values[:int(vmax/2)])\n",
    "    print(nf, ne)\n",
    "\n",
    "def cal_evenness3(vdf, vmax):\n",
    "    vdf['weight'] = 1 - np.exp(-vdf['Height']/50) \n",
    "    vdf['norm_cnt'] = vdf['Count']*vdf['weight']  \n",
    "    values = vdf['norm_cnt'].to_list()\n",
    "    \n",
    "    nf = fairnessnorm(values[:int(vmax/2)])\n",
    "    ne = entropynorm(values[:int(vmax/2)])\n",
    "    print(nf, ne)\n",
    "    print(vdf)\n",
    "    \n",
    "cal_evenness1(bdf2, 360)\n",
    "cal_evenness2(bdf2, 360)\n",
    "cal_evenness3(bdf2, 360)\n"
   ]
  }
 ],
 "metadata": {
  "kernelspec": {
   "display_name": "Python 3.9.6 64-bit",
   "language": "python",
   "name": "python3"
  },
  "language_info": {
   "codemirror_mode": {
    "name": "ipython",
    "version": 3
   },
   "file_extension": ".py",
   "mimetype": "text/x-python",
   "name": "python",
   "nbconvert_exporter": "python",
   "pygments_lexer": "ipython3",
   "version": "3.8.10"
  },
  "vscode": {
   "interpreter": {
    "hash": "31f2aee4e71d21fbe5cf8b01ff0e069b9275f58929596ceb00d14d90e3e16cd6"
   }
  }
 },
 "nbformat": 4,
 "nbformat_minor": 5
}
