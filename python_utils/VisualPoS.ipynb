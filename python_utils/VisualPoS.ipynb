{
 "cells": [
  {
   "cell_type": "code",
   "execution_count": 48,
   "id": "98e9f6bd",
   "metadata": {},
   "outputs": [],
   "source": [
    "import pandas as pd\n",
    "import sqlite3\n",
    "import numpy as np\n",
    "import json\n",
    "\n",
    "def load_data_from_db(dbs, tbl):\n",
    "    sc = list()\n",
    "    for i, node in enumerate(dbs):\n",
    "        conn = sqlite3.connect(node)\n",
    "        \n",
    "        query_cmd = f'SELECT *, strftime(\"%Y-%m-%d %H:%M:%S\",timestamp) FROM {tbl} WHERE id IN ( SELECT MAX(id) FROM dbstatus GROUP BY timestamp);'\n",
    "\n",
    "        df = pd.read_sql_query(query_cmd, conn)\n",
    "        # df.drop('id', axis=1, inplace=True)\n",
    "        # df.drop('totalblocks', axis=1, inplace=True)\n",
    "        # df.drop('totaltransactions', axis=1, inplace=True)\n",
    "        # df.drop('blocks', axis=1, inplace=True)\n",
    "        # df = df.rename(columns={'ts': 'timestamp'})\n",
    "        \n",
    "        # df.astype({'headers': 'int', 'transactions': 'int', 'size': 'int', 'totalquery': 'int', \n",
    "        #           'queryfrom': 'int', 'queryto': 'int', 'totaldelay': 'int'}).dtypes\n",
    "\n",
    "        # #df['totalhop'] = df['totalhop'].apply(json.loads)\n",
    "        sc.append(df)        \n",
    "        conn.close()\n",
    "    return sc"
   ]
  },
  {
   "cell_type": "code",
   "execution_count": 49,
   "id": "f7155c1e",
   "metadata": {},
   "outputs": [
    {
     "name": "stdout",
     "output_type": "stream",
     "text": [
      "0.7556018366014379\n",
      "0.8056472313898059\n"
     ]
    }
   ],
   "source": [
    "#calculate centrality\n",
    "import math\n",
    "import numpy as np\n",
    "\n",
    "def entropynorm(values):\n",
    "    vs = np.array(values)\n",
    "    num = vs.size\n",
    "    tt = np.sum(vs)\n",
    "    vs = vs/tt\n",
    "\n",
    "    npi = np.sum(vs*np.log2(vs))\n",
    "    dpi = math.log2(num)\n",
    "    return - npi/dpi\n",
    "\n",
    "def fairnessnorm(values):\n",
    "    vs = np.array(values)\n",
    "    num = vs.size\n",
    "\n",
    "    npi = np.sum(vs)\n",
    "    npi = npi**2\n",
    "    dpi = np.square(vs).sum()\n",
    "    dpi = dpi*num\n",
    "    \n",
    "    fn = (npi/dpi - 1/num) / (1 - 1/num)\n",
    "    \n",
    "    return fn\n",
    "\n",
    "values_list = [\n",
    "                [0.1, 0.1, 0.1, 0.1, 0.1, 0.1, 0.1, 0.1, 0.1, 0.1],\n",
    "                [0.17, 0.17, 0.13, 0.12, 0.11, 0.09, 0.07, 0.06, 0.05, 0.03],\n",
    "                [0.42, 0.2, 0.14, 0.07, 0.04, 0.04, 0.03, 0.03, 0.02, 0.01]\n",
    "                ]\n",
    "\n",
    "print(entropynorm(values_list[2]))\n",
    "print(fairnessnorm(values_list[1]))"
   ]
  },
  {
   "cell_type": "code",
   "execution_count": 50,
   "id": "77f99389",
   "metadata": {},
   "outputs": [
    {
     "name": "stdout",
     "output_type": "stream",
     "text": [
      "['/mnt/c/Temp/PoS_20221125_152153/7031.db', '/mnt/c/Temp/PoS_20221125_152153/7032.db', '/mnt/c/Temp/PoS_20221125_152153/7033.db', '/mnt/c/Temp/PoS_20221125_152153/7034.db', '/mnt/c/Temp/PoS_20221125_152153/7035.db', '/mnt/c/Temp/PoS_20221125_152153/7036.db', '/mnt/c/Temp/PoS_20221125_152153/7037.db', '/mnt/c/Temp/PoS_20221125_152153/7038.db']\n"
     ]
    }
   ],
   "source": [
    "import os\n",
    "\n",
    "#PATH = \"../blockchainnode/db_nodes\"\n",
    "PATH = \"/mnt/c/Temp/PoS_20221125_152153\"\n",
    "fdbs = [os.path.join(PATH, f) for f in os.listdir(PATH) if f.split(\".\")[-1] == 'db']\n",
    "fdbs.sort()\n",
    "print(fdbs)"
   ]
  },
  {
   "cell_type": "code",
   "execution_count": 51,
   "id": "ed2ff4f7",
   "metadata": {},
   "outputs": [
    {
     "name": "stdout",
     "output_type": "stream",
     "text": [
      "[28, 24, 20, 19, 23, 18, 15, 37] 184\n",
      "[16, 29, 29, 18, 30, 18, 27, 16] 183\n",
      "Fairness Proof 0.9159369527145359\n",
      "Fairness Verification 0.9271815189954309\n",
      "Entropy Proof 0.9820425162114539\n",
      "Entropy Verification 0.9834320440983392\n"
     ]
    },
    {
     "data": {
      "image/png": "[encoded data removed]",
      "text/plain": [
       "<Figure size 432x288 with 1 Axes>"
      ]
     },
     "metadata": {
      "needs_background": "light"
     },
     "output_type": "display_data"
    }
   ],
   "source": [
    "# Count chart for proof and verify\n",
    "from matplotlib import pyplot as plt\n",
    "    \n",
    "dfs = load_data_from_db(fdbs, 'prooftbl')\n",
    "proof = []\n",
    "for i, df in enumerate(dfs):\n",
    "    proof.append(df.shape[0])\n",
    "print(proof, sum(proof))\n",
    "\n",
    "dfs = load_data_from_db(fdbs, 'veriftbl')\n",
    "verif = []\n",
    "for i, df in enumerate(dfs):\n",
    "    verif.append(df.shape[0])\n",
    "print(verif, sum(verif))\n",
    "\n",
    "ch_list = [proof, verif]\n",
    "bdf = pd.DataFrame(ch_list).transpose()\n",
    "bdf.columns = ['Proof', 'Verify']\n",
    "ax = bdf.plot.bar(rot=0)\n",
    "plt.xlabel(\"Node\")\n",
    "plt.ylabel(\"# of executions\")\n",
    "plt.savefig('Num_Prover_Verifier.png', dpi=300, bbox_inches='tight')\n",
    "\n",
    "print('Fairness Proof', fairnessnorm(proof))\n",
    "print('Fairness Verification', fairnessnorm(verif))\n",
    "\n",
    "print('Entropy Proof', entropynorm(proof))\n",
    "print('Entropy Verification', entropynorm(verif))\n",
    "\n",
    "\n"
   ]
  },
  {
   "cell_type": "code",
   "execution_count": 52,
   "id": "3b510d0d",
   "metadata": {},
   "outputs": [
    {
     "name": "stdout",
     "output_type": "stream",
     "text": [
      "[16.404361, 5.623605958333333, 4.035757, 5.100337, 3.7959746521739133, 5.881059333333333, 13.686673599999999, 6.853412648648648]\n",
      "[7160.477591625, 6944.836372586206, 6480.079092103448, 7389.829765111111, 6343.100727766667, 6948.459725277778, 6966.981564592592, 6975.0144684375]\n",
      "[567.620390125, 532.8881066206897, 618.9745032068965, 682.3559763888888, 696.9667195666667, 704.5029718333334, 651.4574326666666, 604.465607375]\n",
      "Avg Proof[msec] 7.672647649061154\n",
      "Avg Verif Fwd[msec] 6901.097413437537\n",
      "Avg Verif Back[msec] 632.4039634728928\n"
     ]
    },
    {
     "data": {
      "image/png": "[encoded data removed]",
      "text/plain": [
       "<Figure size 432x288 with 1 Axes>"
      ]
     },
     "metadata": {
      "needs_background": "light"
     },
     "output_type": "display_data"
    }
   ],
   "source": [
    "# Avg. Time chart for proof and verify\n",
    "from matplotlib import pyplot as plt\n",
    "\n",
    "unit = 1000000 #msec\n",
    "dfs = load_data_from_db(fdbs, 'prooftbl')\n",
    "proof = []\n",
    "for i, df in enumerate(dfs):\n",
    "    proof.append(df['timegenproof'].mean()/unit)\n",
    "print(proof)\n",
    "\n",
    "dfs = load_data_from_db(fdbs, 'veriftbl')\n",
    "veriffwd = []\n",
    "verifrev = []\n",
    "for i, df in enumerate(dfs):\n",
    "    veriffwd.append(df['timeveriffwd'].mean()/unit)\n",
    "    verifrev.append(df['timeverifrev'].mean()/unit)\n",
    "print(veriffwd)\n",
    "print(verifrev)\n",
    "\n",
    "ch_list = [proof, veriffwd, verifrev]\n",
    "bdf = pd.DataFrame(ch_list).transpose()\n",
    "bdf.columns = ['Proof', 'Verify(FWD)', 'Verify(BACK)']\n",
    "ax = bdf.plot.bar(rot=0)\n",
    "plt.xlabel(\"Node\")\n",
    "plt.ylabel(\"Time[msec]\")\n",
    "\n",
    "plt.savefig('Avg_Time_Proof_Verify.png', dpi=300, bbox_inches='tight')\n",
    "\n",
    "print('Avg Proof[msec]', sum(proof)/len(proof))\n",
    "print('Avg Verif Fwd[msec]', sum(veriffwd)/len(veriffwd))\n",
    "print('Avg Verif Back[msec]', sum(verifrev)/len(verifrev))\n"
   ]
  },
  {
   "cell_type": "code",
   "execution_count": 53,
   "id": "912b12a7",
   "metadata": {},
   "outputs": [
    {
     "name": "stdout",
     "output_type": "stream",
     "text": [
      "[904.8362857142857, 900.9995, 677.0912, 979.4023157894737, 781.3537391304349, 985.2946666666667, 1196.3682666666666, 974.2361081081082]\n",
      "Avg size of proof 924.9477602594544\n"
     ]
    },
    {
     "data": {
      "image/png": "[encoded data removed]",
      "text/plain": [
       "<Figure size 432x288 with 1 Axes>"
      ]
     },
     "metadata": {
      "needs_background": "light"
     },
     "output_type": "display_data"
    }
   ],
   "source": [
    "# Avg. Size chart for proof \n",
    "from matplotlib import pyplot as plt\n",
    "\n",
    "unit = 1000 #kbyte\n",
    "dfs = load_data_from_db(fdbs, 'prooftbl')\n",
    "proof = []\n",
    "for i, df in enumerate(dfs):\n",
    "    proof.append(df['sizegenproof'].mean()/unit)\n",
    "print(proof)\n",
    "\n",
    "ch_list = [proof]\n",
    "bdf = pd.DataFrame(ch_list).transpose()\n",
    "bdf.columns = ['Proof Size']\n",
    "ax = bdf.plot.bar(rot=0)\n",
    "plt.xlabel(\"Node\")\n",
    "plt.ylabel(\"Size[MByte]\")\n",
    "plt.savefig('Avg_Size_Proof.png', dpi=300, bbox_inches='tight')\n",
    "\n",
    "print('Avg size of proof', sum(proof)/len(proof))\n"
   ]
  },
  {
   "cell_type": "code",
   "execution_count": 95,
   "id": "304072c6",
   "metadata": {},
   "outputs": [
    {
     "data": {
      "image/png": "[encoded data removed]",
      "text/plain": [
       "<Figure size 432x288 with 1 Axes>"
      ]
     },
     "metadata": {
      "needs_background": "light"
     },
     "output_type": "display_data"
    },
    {
     "data": {
      "image/png": "[encoded data removed]",
      "text/plain": [
       "<Figure size 432x288 with 1 Axes>"
      ]
     },
     "metadata": {
      "needs_background": "light"
     },
     "output_type": "display_data"
    }
   ],
   "source": [
    "# List up proof block and show it in the time order \n",
    "from matplotlib import pyplot as plt\n",
    "\n",
    "dfs = load_data_from_db(fdbs, 'prooftbl')\n",
    "hash = []\n",
    "for i, df in enumerate(dfs):\n",
    "    for s in df['proofblock']:        \n",
    "        hash.append(s)\n",
    "# print(hash)\n",
    "\n",
    "height = []\n",
    "for i, df in enumerate(dfs):\n",
    "    for h in df['proofheight']:        \n",
    "        height.append(h)\n",
    "# print(height)\n",
    "\n",
    "ch_list = [hash, height]\n",
    "bdf = pd.DataFrame(ch_list).transpose()\n",
    "bdf.columns = ['Hash', 'Height']\n",
    "\n",
    "bdf = bdf.sort_values(by=['Height'])\n",
    "bdf2 = bdf.groupby(['Height'])['Height'].count().reset_index(name=\"Count\")\n",
    "\n",
    "plt.plot(bdf2['Height'], bdf2['Count'])\n",
    "\n",
    "bdf = pd.DataFrame([height]).transpose()\n",
    "ax = bdf.plot.hist(bins=12, label='Count')\n",
    "ax.get_legend().remove()\n",
    "\n",
    "plt.xlabel(\"Height\")\n",
    "plt.ylabel(\"# of of blocks selected\")\n",
    "\n",
    "plt.savefig('Proof_Blocks.png', dpi=300, bbox_inches='tight')\n",
    "\n"
   ]
  },
  {
   "cell_type": "code",
   "execution_count": 85,
   "id": "727362bd",
   "metadata": {},
   "outputs": [
    {
     "name": "stdout",
     "output_type": "stream",
     "text": [
      "0.6904139641425647 0.9611661528970377\n",
      "0.5925114625550457 0.9350450971508641\n",
      "0.7024475349540241 0.9295188363671848\n"
     ]
    },
    {
     "data": {
      "image/png": "[encoded data removed]",
      "text/plain": [
       "<Figure size 432x288 with 1 Axes>"
      ]
     },
     "metadata": {
      "needs_background": "light"
     },
     "output_type": "display_data"
    }
   ],
   "source": [
    "import numpy as np\n",
    " \n",
    "def cal_evenness1(vdf, vmax):\n",
    "    vdf['weight'] = (vmax - vdf['Height'])\n",
    "    vdf['norm_cnt'] = vdf['Count']/vdf['weight']\n",
    "    values = vdf['norm_cnt'].to_list()\n",
    "    nf = fairnessnorm(values)\n",
    "    ne = entropynorm(values)\n",
    "    print(nf, ne)\n",
    "    \n",
    "def cal_evenness2(vdf, vmax):\n",
    "    vdf['norm_cnt'] = vdf['Count']*vdf['Height']\n",
    "    values = vdf['norm_cnt'].to_list()\n",
    "    nf = fairnessnorm(values)\n",
    "    ne = entropynorm(values)\n",
    "    print(nf, ne)\n",
    "\n",
    "def cal_acc_prob(vmax):\n",
    "    pis = []\n",
    "    for i in range(vmax):\n",
    "        pi = 0\n",
    "        for j in range(i, vmax):\n",
    "            pi += 1/(j+1)\n",
    "        pis.append(pi)\n",
    "    # print(pis)\n",
    "    return pis\n",
    "\n",
    "def cal_evenness3(vdf, vmax):\n",
    "    pis = cal_acc_prob(vmax)\n",
    "    vdf['weight'] =  [pis[v] for v in vdf['Height'].values]\n",
    "    # [pis[v] for v in vdf['Height'].values()]\n",
    "    # print('weights',vdf)\n",
    "    vdf['norm_cnt'] = vdf['Count']/vdf['weight']  \n",
    "    values = vdf['norm_cnt'].to_list()\n",
    "    \n",
    "    nf = fairnessnorm(values)\n",
    "    ne = entropynorm(values)\n",
    "    print(nf, ne)\n",
    "    # print(values)\n",
    "    \n",
    "    vdf['norm_cnt'].plot()\n",
    "    \n",
    "cal_evenness1(bdf2, 360)\n",
    "cal_evenness2(bdf2, 360)\n",
    "cal_evenness3(bdf2, 360)\n"
   ]
  },
  {
   "cell_type": "code",
   "execution_count": 60,
   "id": "12118f1a",
   "metadata": {},
   "outputs": [
    {
     "name": "stdout",
     "output_type": "stream",
     "text": [
      "[6.464707942236957, 5.464707942236956, 4.964707942236952, 4.631374608903619, 4.381374608903622, 4.181374608903625, 4.014707942236958, 3.871850799379815, 3.7468507993798155, 3.6357396882687043, 3.5357396882687038, 3.4448305973596125, 3.3614972640262795, 3.2845741871032037, 3.2131456156746325, 3.146478949007966, 3.0839789490079657, 3.0251554195962007, 2.969599864040645, 2.9169682850932763, 2.866968285093277, 2.819349237474229, 2.773894692019684, 2.7304164311501196, 2.6887497644834526, 2.648749764483453, 2.6102882260219142, 2.573251188984876, 2.5375369032705897, 2.5030541446499006, 2.4697208113165674, 2.437462746800438, 2.406212746800437, 2.3759097164974072, 2.346497951791525, 2.317926523220096, 2.290148745442318, 2.2631217184152908, 2.2368059289416067, 2.211164903300581, 2.1861649033005808, 2.161774659398141, 2.137965135588617, 2.1147093216351296, 2.0919820489078567, 2.069759826685635, 2.048020696250852, 2.0267441005061713, 2.0059107671728382, 1.985502603907532, 1.965502603907532, 1.9458947607702775, 1.926663991539508, 1.907796067011206, 1.8892775484926876, 1.8710957303108695, 1.8532385874537265, 1.835694727804604, 1.818453348494259, 1.801504195951886, 1.7848375292852197, 1.7684440866622688, 1.7523150544042045, 1.7364420385311887, 1.7208170385311887, 1.7054324231465734, 1.690280907995058, 1.6753555348607296, 1.6606496525077885, 1.6461568988846003, 1.631871184598886, 1.6177866775566327, 1.603897788667744, 1.5901991585307578, 1.5766856450172444, 1.5633523116839108, 1.550194416947069, 1.5372074039600558, 1.524386891139543, 1.5117286632914415, 1.4992286632914416, 1.4868829842790958, 1.474687862327876, 1.4626396695567916, 1.4507349076520302, 1.438970201769677, 1.427342294792933, 1.4158480419193697, 1.4044844055557333, 1.3932484504995533, 1.382137339388442, 1.3711483283994308, 1.3602787631820397, 1.3495260750099967, 1.3388877771376564, 1.3283614613481827, 1.317944794681516, 1.3076355163310003, 1.2974314346983473, 1.2873304245973372, 1.2773304245973371, 1.2674294344983272, 1.2576255129297, 1.2479167750656224, 1.2383013904502376, 1.228777580926428, 1.2193436186622768, 1.2099978242697538, 1.2007385650104947, 1.191564253083889, 1.18247334399298, 1.173464334983971, 1.1645357635553997, 1.1556862060332758, 1.1469142762087143, 1.1382186240348013, 1.129597934379629, 1.1210509258326202, 1.112576349561434, 1.1041729882168962, 1.095839654883563, 1.0875751920736456, 1.0793784707621703, 1.0712483894613576, 1.0631838733323251, 1.0551838733323253, 1.047247365395817, 1.0393733496477855, 1.0315608496477857, 1.0238089116632894, 1.016116603970982, 1.0084830161847225, 1.000907258608965, 0.9933884616164836, 0.9859257750493196, 0.9785183676419121, 0.9711654264654415, 0.9638661563924487, 0.9566197795808545, 0.9494255349765379, 0.9422826778336809, 0.9351904792521206, 0.9281482257309938, 0.9211552187379869, 0.9142107742935425, 0.9073142225694046, 0.9004649075009115, 0.8936621864124762, 0.8869054296557193, 0.8801940202597462, 0.8735273535930795, 0.866904837036788, 0.860325889668367, 0.8537899419559487, 0.8472964354624422, 0.8408448225592163, 0.8344345661489599, 0.8280651393973676, 0.821736025473317, 0.8154467172972163, 0.8091967172972163, 0.8029855371729926, 0.7968126976668198, 0.7906777283416665, 0.7845801673660567, 0.7785195613054507, 0.7724954649199085, 0.7665074409678128, 0.7605550600154318, 0.7546379002521181, 0.7487555473109416, 0.7429075940945674, 0.7370936406061954, 0.731313293785386, 0.7255661673486046, 0.7198518816343188, 0.7141700634525007, 0.7085203459383764, 0.7029023684102864, 0.6973157762315155, 0.69176022067596, 0.686235358797507, 0.6807408533030015, 0.6752763724286847, 0.6698415898199889, 0.6644361844145835, 0.659059840328562, 0.6537122467456744, 0.6483930978095043, 0.6431020925184989, 0.6378389346237622, 0.6326033325295212, 0.6273949991961879, 0.6222136520459288, 0.617059012870671, 0.6119308077424659, 0.6068287669261394, 0.6017526247941597, 0.5967021197436546, 0.591676994115514, 0.586676994115514, 0.5817018697374045, 0.5767513746878995, 0.5718252663135153, 0.5669233055292016, 0.5620452567487138, 0.5571908878166749, 0.5523599699422788, 0.5475522776345865, 0.5427675886393711, 0.5380056838774663, 0.5332663473845753, 0.5285493662524999, 0.5238545305717487, 0.519181633375487, 0.5145304705847893, 0.5099008409551596, 0.5052925460242841, 0.5007053900609815, 0.49613918001531926, 0.49159372546986474, 0.4870688385920367, 0.48256433408753213, 0.4780800291547967, 0.473615743440511, 0.4691712989960665, 0.4647465202350047, 0.4603412338913922, 0.4559552689791115, 0.45158845675203735, 0.44724063066508085, 0.44291162633607645, 0.43860128150849026, 0.43430943601492805, 0.4300359317414237, 0.4257806125924875, 0.4215433244568943, 0.4173239151741939, 0.4131222345019249, 0.4089381340835149, 0.4047714674168483, 0.4006220898234873, 0.39648985841852863, 0.3923746320810801, 0.3882762714253423, 0.38419463877228116, 0.3801295981218746, 0.37608101512592323, 0.3720487570614071, 0.36803269280437895, 0.36403269280437894, 0.360048629059359, 0.3560803750911051, 0.3521278059211446, 0.3481907980471289, 0.3442692294196779, 0.3403629794196779, 0.33647192883602034, 0.33259595984377227, 0.3287349559827684, 0.3248888021366146, 0.3210573845120935, 0.31724059061896376, 0.31343830925014243, 0.30965043046226365, 0.30587684555660327, 0.30211744706036264, 0.2983721287083028, 0.2946407854247206, 0.2909233133057615, 0.28721960960205783, 0.2835295727016888, 0.27985310211345354, 0.2761900984504499, 0.2725404634139535, 0.2689040997775899, 0.26528091137179277, 0.2616708030685437, 0.2580736807663854, 0.2544894513757044, 0.2509180228042759, 0.2473593039430659, 0.24381320465228576, 0.2402796357476921, 0.23675850898712872, 0.23324973705730415, 0.22975323356080066, 0.22626891300330934, 0.22279669078108713, 0.2193364831686304, 0.2158882073065614, 0.21245178118972294, 0.2090271236554764, 0.20561415437219996, 0.20221279382798227, 0.1988229633195077, 0.1954445849411293, 0.19207758157412594, 0.18872187687613942, 0.18537739527078823, 0.1820440619374549, 0.17872180280124228, 0.1754105445230966, 0.17211021449009328, 0.16882074080588277, 0.16554205228129262, 0.16227407842508346, 0.15901674943485544, 0.15576999618810217, 0.15253375023340962, 0.1493079437817967, 0.14609250969819543, 0.1428873814930672, 0.13969249331415348, 0.1365077799383573, 0.13333317676375414, 0.1301686198017288, 0.12701404566923669, 0.12386939158118639, 0.12073459534294186, 0.11760959534294187, 0.11449433054543408, 0.11138874048332227, 0.10829276525112412, 0.10520634549803769, 0.10212942242111463, 0.09906193775853793, 0.09600383378300277, 0.09295505329519789, 0.08991553961738634, 0.08688523658708334, 0.08386408855082957, 0.08085204035805847, 0.07784903735505548, 0.07485502537900757, 0.0718699507521419, 0.06889376027595143, 0.06592640122550632, 0.0629678213438495, 0.060017968836474866, 0.05707679236588663, 0.054144241046238537, 0.0512202644380514, 0.048304812543007676, 0.045397835798821624, 0.042499285074183935, 0.03960911166377932, 0.036727267283375865, 0.03385370406498506, 0.03098837455209108, 0.02813123169494822, 0.025282228845945373, 0.02244131975503628, 0.019608458565234584, 0.016783599808172435, 0.013966698399721731, 0.011157709635676787, 0.008356589187497515, 0.00556329309811204, 0.002777777777777778]\n"
     ]
    }
   ],
   "source": []
  }
 ],
 "metadata": {
  "kernelspec": {
   "display_name": "Python 3.9.6 64-bit",
   "language": "python",
   "name": "python3"
  },
  "language_info": {
   "codemirror_mode": {
    "name": "ipython",
    "version": 3
   },
   "file_extension": ".py",
   "mimetype": "text/x-python",
   "name": "python",
   "nbconvert_exporter": "python",
   "pygments_lexer": "ipython3",
   "version": "3.8.10"
  },
  "vscode": {
   "interpreter": {
    "hash": "31f2aee4e71d21fbe5cf8b01ff0e069b9275f58929596ceb00d14d90e3e16cd6"
   }
  }
 },
 "nbformat": 4,
 "nbformat_minor": 5
}
